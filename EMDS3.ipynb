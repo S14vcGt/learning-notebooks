{
  "nbformat": 4,
  "nbformat_minor": 0,
  "metadata": {
    "colab": {
      "provenance": [],
      "authorship_tag": "ABX9TyPs6JXCJzdOMNM7uDMuQIlq",
      "include_colab_link": true
    },
    "kernelspec": {
      "name": "python3",
      "display_name": "Python 3"
    },
    "language_info": {
      "name": "python"
    }
  },
  "cells": [
    {
      "cell_type": "markdown",
      "metadata": {
        "id": "view-in-github",
        "colab_type": "text"
      },
      "source": [
        "<a href=\"https://colab.research.google.com/github/S14vcGt/learning-notebooks/blob/main/EMDS3.ipynb\" target=\"_parent\"><img src=\"https://colab.research.google.com/assets/colab-badge.svg\" alt=\"Open In Colab\"/></a>"
      ]
    },
    {
      "cell_type": "markdown",
      "source": [
        "# Descriptive and Inferential Statistics\n",
        "\n"
      ],
      "metadata": {
        "id": "kY4MwnLvKiq6"
      }
    },
    {
      "cell_type": "markdown",
      "source": [
        "## Descriptive statistics\n",
        "\n",
        "It helps us to summarize data."
      ],
      "metadata": {
        "id": "yMmkDNw2hu2R"
      }
    },
    {
      "cell_type": "markdown",
      "source": [
        " ### Mean and Weighted Mean\n",
        " The mean is the average of a set of values. The operation is simple to do: sum\n",
        " the values and divide by the number of values. The mean is useful because it\n",
        " shows where the “center of gravity” exists for an observed set of values.\n",
        " The mean is calculated the same way for both populations and samples."
      ],
      "metadata": {
        "id": "21TGNgF3h2Lh"
      }
    },
    {
      "cell_type": "code",
      "execution_count": null,
      "metadata": {
        "id": "AhMGeID6KZae",
        "colab": {
          "base_uri": "https://localhost:8080/"
        },
        "outputId": "9ba75603-95a6-4cce-aa1f-ddf48608f0a5"
      },
      "outputs": [
        {
          "output_type": "execute_result",
          "data": {
            "text/plain": [
              "2.875"
            ]
          },
          "metadata": {},
          "execution_count": 3
        }
      ],
      "source": [
        " # Number of pets each person owns\n",
        "sample = [1, 3, 2, 5, 7, 0, 2, 3]\n",
        "mean = sum(sample) / len(sample)\n",
        "mean"
      ]
    },
    {
      "cell_type": "markdown",
      "source": [
        "this in formula would be $\\bar{x}=∑\\frac{x_i}{n}$ for the sample mean, and $\\mu=∑\\frac{x_i}{N}$ for the population mean\n",
        "\n",
        "The mean is likely familar to you, but here’s something less known about the\n",
        " mean: the mean is actually a weighted average called the weighted mean. The\n",
        " mean we commonly use gives equal importance to each value. But we can\n",
        " manipulate the mean and give each item a different weight.\n",
        "\n",
        " weighted mean = $\\frac{(x1 ⋅w1)+(x2 ⋅w2)+(x3 ⋅w3)+...(xn ⋅wn)}{\n",
        " w1 +w2+w3+...+wn}$\n",
        "\n",
        " This can be helpful when we want some values to contribute to the mean more\n",
        " than others. A common example of this is weighting academic exams to give a\n",
        " final grade. If you have 3 exams and a final exam, and we give each of the 3\n",
        " exams 20% weight and the final exam 40% weight of the final grade"
      ],
      "metadata": {
        "id": "gu5-s2kEiCzA"
      }
    },
    {
      "cell_type": "code",
      "source": [
        "# Three exams of .20 weight each and final exam of .40 weight\n",
        "sample = [90, 80, 63, 87]\n",
        "weights = [.20, .20, .20, .40]\n",
        "weighted_mean = sum(s * w for s,w in zip(sample, weights)) / sum(weights)\n",
        "weighted_mean"
      ],
      "metadata": {
        "colab": {
          "base_uri": "https://localhost:8080/"
        },
        "id": "TzYXjYsnjU74",
        "outputId": "9947e21f-c48f-4f9c-bc0a-647b23f45483"
      },
      "execution_count": null,
      "outputs": [
        {
          "output_type": "execute_result",
          "data": {
            "text/plain": [
              "81.4"
            ]
          },
          "metadata": {},
          "execution_count": 5
        }
      ]
    },
    {
      "cell_type": "markdown",
      "source": [
        "we actully don't have to use percentages with the weights since any value we use is going to be proportionalized,as long as we keep the same diferences between the values of the weights it will return the same value."
      ],
      "metadata": {
        "id": "sngezpFpkNCO"
      }
    },
    {
      "cell_type": "markdown",
      "source": [
        "### Median\n",
        "\n",
        "The median is the middle-most value in a set of ordered values. You\n",
        " sequentially order the values, and the median will be the center-most value. If\n",
        " you have an even number of values, you average the two center-most values.\n",
        "\n",
        " The median is the middle-most value in a set of ordered values. You\n",
        " sequentially order the values, and the median will be the center-most value. If you have an even number of values, you average the two center-most values.\n",
        "\n",
        " When your median is very different from mean, that means you have a skewed dataset with outliers."
      ],
      "metadata": {
        "id": "-fsdwhHukucW"
      }
    },
    {
      "cell_type": "code",
      "source": [
        " # Number of pets each person owns\n",
        "sample = [0, 1, 5, 7, 9, 10, 14]\n",
        "\n",
        "def median(values):\n",
        "  ordered = sorted(values)\n",
        "  print(ordered)\n",
        "  n = len(ordered)\n",
        "  mid = int(n / 2) - 1 if n % 2 == 0 else int(n/2)\n",
        "  if n % 2 == 0:\n",
        "    return (ordered[mid] + ordered[mid+1]) / 2.0\n",
        "  else:\n",
        "      return ordered[mid]\n",
        "\n",
        "print(median(sample))"
      ],
      "metadata": {
        "colab": {
          "base_uri": "https://localhost:8080/"
        },
        "id": "gW7El7u1nGrl",
        "outputId": "64cb430e-1412-4fb0-cefc-afd8723e444f"
      },
      "execution_count": null,
      "outputs": [
        {
          "output_type": "stream",
          "name": "stdout",
          "text": [
            "[0, 1, 5, 7, 9, 10, 14]\n",
            "7\n"
          ]
        }
      ]
    },
    {
      "cell_type": "markdown",
      "source": [
        "There is a concept of quantiles in descriptive statistics. The concept of\n",
        " quantiles is essentially the same as a median, just cutting the data in other\n",
        " places besides the middle. The median is actually the 50% quantile, or the\n",
        " value where 50% of ordered values are behind it. Then there is the 25%,\n",
        " 50%, 75% quantiles which are known as quartiles as they cut data in 25%\n",
        " increments."
      ],
      "metadata": {
        "id": "NikCGn-ynea0"
      }
    },
    {
      "cell_type": "markdown",
      "source": [
        "### mode\n",
        " The mode is the most frequently occurring set of values. It primarily becomes\n",
        " useful when your data is repetitive and you want to find which values occur the\n",
        " most frequently.\n",
        " When no value occurs more than once, there is no mode. When two values occur\n",
        " with an equal amount of frequency, then the dataset is considered **bimodal**.\n"
      ],
      "metadata": {
        "id": "nN-x6ox_ngVl"
      }
    },
    {
      "cell_type": "code",
      "source": [
        "# Number of pets each person owns\n",
        "from collections import defaultdict\n",
        "sample = [1, 3, 2, 5, 7, 0, 2, 3]\n",
        "def mode(values):\n",
        "  counts = defaultdict(lambda: 0)\n",
        "  for s in values:\n",
        "    counts[s] += 1\n",
        "    max_count = max(counts.values())\n",
        "    modes = [v for v in set(values) if counts[v] == max_count]\n",
        "  return modes\n",
        "mode(sample)"
      ],
      "metadata": {
        "colab": {
          "base_uri": "https://localhost:8080/"
        },
        "id": "HcqRNaVTntHD",
        "outputId": "be19dc0d-a2ae-4327-d49b-95419fc8fc61"
      },
      "execution_count": null,
      "outputs": [
        {
          "output_type": "execute_result",
          "data": {
            "text/plain": [
              "[2, 3]"
            ]
          },
          "metadata": {},
          "execution_count": 8
        }
      ]
    },
    {
      "cell_type": "markdown",
      "source": [
        " ### Variance and Standard Deviation\n",
        "\n",
        " The **variance** is a measure of\n",
        " how spread out our data is, in other words how far is every data point from the mean.\n",
        "\n",
        " For the population variance we have $$σ^2 = \\frac{∑(xi−μ)^2}{\n",
        " N}$$"
      ],
      "metadata": {
        "id": "THnof4rNtLtT"
      }
    },
    {
      "cell_type": "code",
      "source": [
        "# variance for population data\n",
        "data = [0, 1, 5, 7, 9, 10, 14]\n",
        "def variance(values):\n",
        "  mean = sum(values) / len(values)\n",
        "  _variance = sum((v - mean) ** 2 for v in values) / len(values)\n",
        "  return _variance\n",
        "variance(data)"
      ],
      "metadata": {
        "colab": {
          "base_uri": "https://localhost:8080/"
        },
        "id": "IXF5yGUhuqyg",
        "outputId": "62b26077-c9cf-4cb8-c702-fb63066a99b0"
      },
      "execution_count": null,
      "outputs": [
        {
          "output_type": "execute_result",
          "data": {
            "text/plain": [
              "21.387755102040813"
            ]
          },
          "metadata": {},
          "execution_count": 10
        }
      ]
    },
    {
      "cell_type": "markdown",
      "source": [
        "The number returned for the variance is hard to relate back to our data, so we use the **standard deviation** to do so, putting the result more close to the actual data. This is the variance scaled into\n",
        "a number expressed in terms of “number of pets” which makes it a bit more\n",
        " meaningful $$ σ =\\sqrt{\\frac{∑(xi −μ)^2}{N}}$$"
      ],
      "metadata": {
        "id": "yA0qf3pau1Cs"
      }
    },
    {
      "cell_type": "code",
      "source": [
        "# standard deviation on population data\n",
        "from math import sqrt\n",
        "# Number of pets each person owns\n",
        "data = [0, 1, 5, 7, 9, 10, 14]\n",
        "\n",
        "def variance(values):\n",
        "  mean = sum(values) / len(values)\n",
        "  _variance = sum((v - mean) ** 2 for v in values) / len(values)\n",
        "  return _variance\n",
        "\n",
        "def std_dev(values):\n",
        "  return sqrt(variance(values))\n",
        "std_dev(data)"
      ],
      "metadata": {
        "id": "_8EuyDBpwTh4"
      },
      "execution_count": null,
      "outputs": []
    },
    {
      "cell_type": "markdown",
      "source": [
        "#### Sample Variance and standard deviation\n",
        "\n",
        "When we average the squared differences, we divide by n-1 rather than the total number of items n. We do this to decrease any bias in a sample, and not underestimate the variance of the population based on our sample. By counting values short of 1 item in our divisor, we increase the variance and therefore capture greater uncertainty in our sample.\n",
        "\n",
        "$$s^2 = \\frac{∑(xi−\\bar{x})^2}{n−1}$$\n",
        "\n",
        "\n",
        "$$s= \\sqrt\\frac{∑(xi−\\bar{x})^2}{n−1}$$"
      ],
      "metadata": {
        "id": "Mf4pMjhDyBQy"
      }
    },
    {
      "cell_type": "code",
      "source": [
        "from math import sqrt\n",
        "# Number of pets each person owns\n",
        "data = [0, 1, 5, 7, 9, 10, 14]\n",
        "def variance(values, is_sample: bool = False):\n",
        "  mean = sum(values) / len(values)\n",
        "  _variance = sum((v - mean) ** 2 for v in values) / (len(values) - (1 if is_sample else 0))\n",
        "  return _variance\n",
        "def std_dev(values, is_sample: bool = False):\n",
        "  return sqrt(variance(values, is_sample))\n",
        "\n",
        "(variance(data,is_sample=True),std_dev(data, is_sample=True))"
      ],
      "metadata": {
        "id": "sKHN_CsszHQ5"
      },
      "execution_count": null,
      "outputs": []
    },
    {
      "cell_type": "markdown",
      "source": [
        "Notice that both variance and standard deviation has increased now. This is correct as a sample could be biased and imperfect representing the population. Therefore we increase the variance (and thus the standard deviation) to increase our estimate how spread out the values are. A larger variance/standard deviation shows less confidence with a larger range."
      ],
      "metadata": {
        "id": "Um-H4xQC0Hkt"
      }
    },
    {
      "cell_type": "markdown",
      "source": [
        "### The Normal Distribution\n",
        "\n",
        "The normal distribution, also\n",
        " known as the Gaussian distribution, is a symmetrical bell-shaped distribution\n",
        " that has most mass around the mean, and its spread is defined as a standard\n",
        " deviation. The “tails” on either side become thinner as you move away from the\n",
        " mean. It is very helpful in both descriptive statistics and inferential statistics because allows us to treat data in a standar way, since any dataset large enough is going to be bell-shaped\n",
        "\n",
        "  The normal distribution has several important properties that make it useful:\n",
        " - It’s symmetrical, both sides are identically mirrored at the mean which is the center\n",
        "\n",
        " - Most mass is at the center around the mean\n",
        " - It has a spread (being narrow or wide) that is specified by standard deviation.\n",
        " - The “tails” are the least likely outcomes, and approach zero infinitely but never touch zero.\n",
        " - It resembles a lot of phenomena in nature and daily life, and even\n",
        " generalizes non-normal problems because of the central limit theorem\n",
        " which we will talk about shortly.\n"
      ],
      "metadata": {
        "id": "yLS09ZCe0hsO"
      }
    },
    {
      "cell_type": "markdown",
      "source": [
        "### The Probability Density Function\n",
        "\n",
        "The standard deviation plays an important role in the normal distribution,\n",
        " because it defines how “spread out” it is. It is actually one of the parameters\n",
        " alongside the mean. The probability density function (PDF) that creates the\n",
        " normal distribution is as follows:\n",
        "\n",
        " $f (x) = \\frac{1}{σ}*\\sqrt{2π}*e^{-\\frac{1}{2}(\\frac{x−μ^2}{σ})}$"
      ],
      "metadata": {
        "id": "b7Y7AAj7Uyhr"
      }
    },
    {
      "cell_type": "code",
      "source": [
        "import numpy as np\n",
        "import math as mt\n",
        "# this was my aproach, literally the formula made code,\n",
        "#which I should have known wouldn't work because of how is written in the book,\n",
        "# turns out that the exponent for euler's number gets way too big,\n",
        "# even using Julia (I like more Julia for numerical calculus)\n",
        "#the number is interpreted as infinite, so makes sense the modifications the author\n",
        "# did to the formula, he's simplifying the expression to get the same results without\n",
        "# passing a so large float to exp()\n",
        "def PDF(x,mean, std):\n",
        "  return (mt.sqrt(2*mt.pi)*np.exp(-(x - mean**2)/2.0*std**2))/std\n",
        "\n",
        "\n",
        "I_just_made_them_up= (31.56,34.44,0.897)\n",
        "\n",
        "PDF(I_just_made_them_up[0],I_just_made_them_up[1],I_just_made_them_up[2])\n",
        "\n",
        "# I noticed that my function maybe is more similar to the formula but also is\n",
        "# utterly wrong haha, playing with the mean deliver values greater than 1, which\n",
        "# is obviuslya wrong. I thought that while smaller the standard deviation greather\n",
        "# is the likelihood, but experimenting with the function that does work prove me wrong\n",
        "# It turns out that is a thing of the function's curve, while greater the std_dev\n",
        "# greater the likelihood because there is more probabilitie acumulated under the curve\n",
        "# really interesting, and obvius if you look at the curve, which I didn't"
      ],
      "metadata": {
        "id": "8Y1tMIkUWUdH"
      },
      "execution_count": null,
      "outputs": []
    },
    {
      "cell_type": "code",
      "source": [
        "import math as mt\n",
        "\n",
        "# the one in the book, wich works and returns a likelihood\n",
        "def normal_pdf(x: float, mean: float, std_dev: float) -> float:\n",
        "  return (1.0 / (2.0 * mt.pi * std_dev ** 2) ** 0.5) * mt.exp(-((x - mean) ** 2 / (2.0 * std_dev ** 2)))\n",
        "\n",
        "I_just_made_them_up= (35.56,34.44,0.897)\n",
        "\n",
        "normal_pdf(I_just_made_them_up[0],I_just_made_them_up[1],I_just_made_them_up[2])"
      ],
      "metadata": {
        "id": "Nm4WFrATcFLz"
      },
      "execution_count": null,
      "outputs": []
    },
    {
      "cell_type": "markdown",
      "source": [
        "to understand how the PDF works I also understand better what is the cumulative density function (CDF) which I read about but didn't fully understand. The CDF does return a probability, that matches the quantiles of the PDF"
      ],
      "metadata": {
        "id": "F6bpALrPnqiu"
      }
    },
    {
      "cell_type": "markdown",
      "source": [
        "With the CDF you can calculate a probability based on a value, which is very handy, and I think some ML algorithms must take advantage of this ( you get data, and with that data you get a prediction for your data)\n"
      ],
      "metadata": {
        "id": "dGp2blFJpxZT"
      }
    },
    {
      "cell_type": "code",
      "source": [
        "from scipy.stats import norm\n",
        "mean = 64.43\n",
        "std_dev = 2.99\n",
        "norm.cdf(64.43, mean, std_dev)"
      ],
      "metadata": {
        "id": "oj-JJPHbqRQb"
      },
      "execution_count": null,
      "outputs": []
    },
    {
      "cell_type": "markdown",
      "source": [
        "Also with the inverse CDF you can do the opposite: giving a probability, find a value. This is usefull to generate random numbers following normal distribution ( maybe I'll see more of this in my college course of simulations and models)"
      ],
      "metadata": {
        "id": "4O97GO2Dqo_c"
      }
    },
    {
      "cell_type": "code",
      "source": [
        "# so if I want the weight that 95 % of the goldens fall under\n",
        "from scipy.stats import norm\n",
        "norm.ppf(.95, loc=64.43, scale=2.99)"
      ],
      "metadata": {
        "id": "e_KtBrA8rEIj"
      },
      "execution_count": null,
      "outputs": []
    },
    {
      "cell_type": "markdown",
      "source": [
        "I could implemente these from scratch and I'm definetely  going to read the code, but I rather leave scratch implementations for the tasty algorithms in papers and similar 😉."
      ],
      "metadata": {
        "id": "yaAfaFccrgZf"
      }
    },
    {
      "cell_type": "markdown",
      "source": [
        "### Z-scores\n",
        "\n",
        " It is common to re-scale a normal distribution so that the mean is 0 and the standard deviation is 1, which is known as the standard normal distribution.\n",
        "\n",
        " This allows us to make it easy to compare the spread of one normal distribution to another normal distribution, even if they have different means and variances.\n",
        "\n",
        " Something that is of particular importance with the standard normal distribution is it expresses all x-values in terms of standard deviations, known as Z-scores.\n",
        " Turning an x-value into a Z-score uses a basic scaling formula\n",
        "  $z = \\frac{x−μ}{σ}$"
      ],
      "metadata": {
        "id": "iRGDlemLsApH"
      }
    },
    {
      "cell_type": "code",
      "source": [
        "def z_score(x, mean, std):\n",
        "  return (x - mean) / std\n",
        "def z_to_x(z, mean, std):\n",
        "  return (z * std) + mean\n",
        "\n",
        "mean = 140000\n",
        "std_dev = 3000\n",
        "x = 150000\n",
        "# Convert to Z-score and then back to X\n",
        "z = z_score(x, mean, std_dev)\n",
        "print(z)\n",
        "back_to_x = z_to_x(z, mean, std_dev)\n",
        "print(back_to_x)"
      ],
      "metadata": {
        "id": "WRsDVLPar-AG"
      },
      "execution_count": null,
      "outputs": []
    },
    {
      "cell_type": "markdown",
      "source": [
        "# Inferential Statistics\n",
        "\n",
        ">It is acceptable (perhaps even enlightened) to theorize there is no\n",
        " explanation at all and a finding is just coincidental and random.\n"
      ],
      "metadata": {
        "id": "SDhiM3KcZMvq"
      }
    },
    {
      "cell_type": "markdown",
      "source": [
        "### the central limit theorem\n",
        "\n",
        " states interesting once we take large enough samples of a population, calculate the mean\n",
        " of each, and plot them as a distribution:\n",
        " 1. The mean of the sample means is equal to the population mean.\n",
        " 2. If the population is normal, then the sample means will be normal.\n",
        " 3. If the population is not normal, but the sample size is greater than 30,\n",
        " roughly the sample means will still form a normal distribution.\n",
        " 4. The standard deviation of the sample means equals the population standard\n",
        " deviation divided by the square root of n\n",
        "\n",
        " $\\text{sample standard deviation} = \\frac{\\text{population standard deviation}}{\\sqrt{\\text{sample size}}}$\n",
        "\n",
        "  \n",
        "  Let’s pretend I am measuring a population that is truly and uniformly random.\n",
        " Any value between 0.0 and 1.0 is equally likely, and no value has any\n",
        " preference. But something fascinating happens when we take increasingly large\n",
        " samples from this population, take the average of each, and then plot them into a\n",
        " histogram."
      ],
      "metadata": {
        "id": "EF-CqtLwciU6"
      }
    },
    {
      "cell_type": "code",
      "source": [
        " # Samples of the uniform distribution will average out to a normal distribution.\n",
        "import random\n",
        "import plotly.express as px\n",
        "sample_size = 31\n",
        "sample_count = 1000\n",
        "\n",
        "# Central limit theorem, 1000 samples each with 31 random numbers between 0.0 and 1.0\n",
        "\n",
        "x_values = [(sum([random.uniform(0.0, 1.0) for i in range(sample_size)])/ sample_size) for _ in range(sample_count)]\n",
        "\n",
        "y_values = [1 for _ in range(sample_count)]\n",
        "\n",
        "px.histogram(x=x_values, y = y_values, nbins=20).show()\n"
      ],
      "metadata": {
        "colab": {
          "base_uri": "https://localhost:8080/",
          "height": 542
        },
        "id": "aCIULRxrgs1Y",
        "outputId": "8cf9c22f-fdcb-4974-f43a-d956ff2fc71f"
      },
      "execution_count": null,
      "outputs": [
        {
          "output_type": "display_data",
          "data": {
            "text/html": [
              "<html>\n",
              "<head><meta charset=\"utf-8\" /></head>\n",
              "<body>\n",
              "    <div>            <script src=\"https://cdnjs.cloudflare.com/ajax/libs/mathjax/2.7.5/MathJax.js?config=TeX-AMS-MML_SVG\"></script><script type=\"text/javascript\">if (window.MathJax && window.MathJax.Hub && window.MathJax.Hub.Config) {window.MathJax.Hub.Config({SVG: {font: \"STIX-Web\"}});}</script>                <script type=\"text/javascript\">window.PlotlyConfig = {MathJaxConfig: 'local'};</script>\n",
              "        <script charset=\"utf-8\" src=\"https://cdn.plot.ly/plotly-2.24.1.min.js\"></script>                <div id=\"c4b28341-b443-4f88-928a-b4d7312b42bd\" class=\"plotly-graph-div\" style=\"height:525px; width:100%;\"></div>            <script type=\"text/javascript\">                                    window.PLOTLYENV=window.PLOTLYENV || {};                                    if (document.getElementById(\"c4b28341-b443-4f88-928a-b4d7312b42bd\")) {                    Plotly.newPlot(                        \"c4b28341-b443-4f88-928a-b4d7312b42bd\",                        [{\"alignmentgroup\":\"True\",\"bingroup\":\"x\",\"histfunc\":\"sum\",\"hovertemplate\":\"x=%{x}\\u003cbr\\u003esum of y=%{y}\\u003cextra\\u003e\\u003c\\u002fextra\\u003e\",\"legendgroup\":\"\",\"marker\":{\"color\":\"#636efa\",\"pattern\":{\"shape\":\"\"}},\"name\":\"\",\"nbinsx\":20,\"offsetgroup\":\"\",\"orientation\":\"v\",\"showlegend\":false,\"x\":[0.4370564381608009,0.5671551628519881,0.5314787897995473,0.44629368995588914,0.4776929664550758,0.4570711919150987,0.5048084795811018,0.5318209571828828,0.44017143085811883,0.4596701987493549,0.45660509032423874,0.46816510558689767,0.44170602734185044,0.4910151694236187,0.5312439545502359,0.5171152889806083,0.4931421840811267,0.4849402465916807,0.513225863109962,0.5049265646936123,0.5811934234023383,0.49024342334758686,0.5642677740558554,0.5026136102969818,0.48964979939452485,0.3979433900591959,0.4899686024498888,0.43616051880386564,0.4646942267413184,0.48972743194330126,0.5273991127742443,0.5212328189737643,0.4773268347562208,0.5784507378132061,0.5107279625565057,0.5595214353032912,0.5129379534285741,0.6080548906433362,0.49077122207783075,0.5465482599922923,0.5228203412452409,0.43903613864898583,0.4058138594165733,0.43184161123781756,0.4663886925179937,0.4866496046193248,0.4857013254329973,0.5405145529646563,0.5440727430278857,0.48904464210057524,0.48363114433409427,0.5698658355465448,0.5083000539306924,0.5092011280851971,0.4415204843002197,0.4946416490947752,0.4826593991194759,0.4188870353527282,0.5600100151921127,0.5531437394186963,0.43858039060941073,0.5308218164130116,0.6225270620171458,0.4873456687262309,0.53154403866514,0.42779709356592277,0.562142748632089,0.49600885583956567,0.4900778507618398,0.5731732498496108,0.391850254119321,0.47258114545997487,0.5163102702479392,0.5520732361916866,0.5244111258861469,0.4545606477861362,0.5012844514749829,0.5533589589743043,0.48770420576355983,0.5228695748284229,0.4798858262917537,0.48889325083027135,0.5143601534732916,0.4822875534003698,0.4829169631568429,0.555140401315351,0.40899759010840425,0.5178054214566596,0.47110157671973096,0.5566473641099628,0.5550591778070019,0.380736213701556,0.39691106738144577,0.5847841492131336,0.5825774054764595,0.519253611912152,0.4647677189479354,0.49664790273430204,0.5271270318354656,0.43400486018224754,0.4663925410787044,0.45199072819938785,0.42183175016247026,0.42264503777792295,0.49106074245329945,0.501505867542009,0.5564715194876895,0.4323081353812976,0.5001346556947325,0.4298462275039715,0.44192902887182334,0.5697185924083585,0.534929412771643,0.5083691228802646,0.4201032665743985,0.5574385971950472,0.4620178327963905,0.4571720030108356,0.5035417450367605,0.5377787005082414,0.5209047507595246,0.5189972520789791,0.5279258576042695,0.4476492281730455,0.5149935402485007,0.5214338148122348,0.46966413789013683,0.46109357297817016,0.5464475207708522,0.4839442751136597,0.4571581431097905,0.41159219140316566,0.4857739930153741,0.41387429739742637,0.447277802204125,0.5388310050859064,0.5256178939025745,0.4849648855254557,0.4775592905327782,0.45596271221480944,0.49780958547610843,0.5396511184462695,0.5008213552474908,0.4767214615659541,0.46328387838760565,0.5576728851238159,0.48195797362763243,0.5139361499530446,0.49744686876633426,0.5352821281528074,0.5543339419563783,0.5223005962576284,0.5846494317395041,0.4937608618707588,0.4816717800748,0.45588623892015484,0.5110688833109217,0.561129208895005,0.4652980305194711,0.5042782621015454,0.520028527637081,0.4911136689910282,0.5644081284687501,0.49186367201476716,0.5636952258933207,0.5661132113347812,0.46167483548416494,0.5304003572836888,0.41646535556116765,0.5201387806560608,0.4918484711384462,0.4847885452659236,0.5048593690617078,0.4742474570200287,0.4355271680218606,0.49737329681103293,0.49403199714472873,0.5630796642656535,0.4760498995615461,0.492100178366807,0.510087313252407,0.5506046534711072,0.48178048979700244,0.4798842220220556,0.4651106579694409,0.4989931163767733,0.5755375122745607,0.5035397115551878,0.461281666212124,0.5183232761209731,0.46134237442671455,0.5255267056377689,0.5396061571564585,0.585128539290013,0.49578427933017793,0.4625755491293889,0.43625590642462,0.44886898857345586,0.47457483048316507,0.615582338227677,0.3711841839586547,0.3975611145664726,0.4071612937234413,0.5436182254183689,0.48458486805430406,0.48226180548720843,0.4623803093088112,0.43033768617683854,0.5014365517511115,0.4473670619046266,0.4550273971272417,0.515262071712559,0.44511528962528063,0.43993296407097476,0.5117580644671925,0.4331132043114963,0.4090245667727797,0.43577369883143474,0.43685180486881436,0.5738555519586244,0.5074264435634398,0.5640388454714678,0.4698932051867367,0.5440807667139325,0.45239133584663593,0.42588484154840955,0.4963595762534145,0.49273431573480303,0.5854588478472392,0.5386371726165634,0.46273890200091755,0.5766284262333682,0.5209956579578295,0.48884346638801346,0.5240229827273688,0.5313829138920532,0.5982775111642386,0.522917382024242,0.40472684973198836,0.474005661958454,0.58400619492311,0.4337292397767778,0.5013139605013543,0.45150685168937754,0.4985569455141917,0.5909263574810195,0.5213208575708623,0.4755955398003743,0.5114870814403817,0.5729721976314764,0.541118727023368,0.545765494755026,0.4972358463036357,0.42610146405910654,0.5193620430648296,0.43612696699816944,0.46779519096687533,0.44500425033021446,0.44510690843910605,0.5487657528386702,0.5766288573012969,0.5738352378333355,0.43910086181442065,0.45500523510534996,0.4500003368325211,0.5759430826331282,0.46770605443935126,0.53132349927327,0.5508795386498355,0.48604510438496384,0.4955602864090975,0.45155841716412587,0.535495347542141,0.5403234440321251,0.4759047654434425,0.4964597565339913,0.5074601442460065,0.48380957589041673,0.4661122282982834,0.5600407545422618,0.49932837667261176,0.4171868897685084,0.5427380396968088,0.5111447961839468,0.5049076299169424,0.5667420717297112,0.39469762208925874,0.5590164861376617,0.41679900098280437,0.5044780487887761,0.5044774367951982,0.5668572465370251,0.6347433766856402,0.506526224789098,0.4131149819643426,0.4961631619724583,0.4948466008912439,0.40314482478489955,0.5653807669944526,0.522365319296843,0.5216924992441285,0.46935842444243364,0.5182889375317415,0.4748941696284701,0.4040232081907153,0.4364053423924232,0.5453360355803683,0.5625513140093092,0.4601505006454846,0.5036231718457674,0.42527797384696037,0.5591774527008573,0.5121274683888949,0.47602126560636016,0.5288049971951088,0.48072345725742366,0.5028726700253697,0.4866520152394073,0.4842792828646922,0.4036900206209748,0.5309057775063881,0.510800582642659,0.488192502719125,0.5318467434494388,0.49362413450822656,0.45434558447887174,0.36015105086115706,0.47001018886416207,0.49507403379608933,0.4886956820418567,0.5343044882060064,0.46621725963445865,0.48746086611386547,0.4748828717544656,0.4823151073968367,0.580800484437885,0.47370329693385943,0.42559950919395206,0.4544233847695897,0.5073014229670962,0.5065242371840752,0.47395052889296013,0.5579241684097297,0.5630937512743706,0.46713016073566016,0.36817263963398256,0.48805494212177364,0.48823195252631246,0.5641666534909316,0.5282026594079537,0.5399707070858005,0.5394344126774626,0.4841376622032504,0.4912096210165625,0.49260649624707226,0.4543646562094236,0.5224895865903687,0.5403287643505971,0.47713586484573367,0.5007048947717009,0.4018095495293231,0.48043879568091513,0.4533063204342343,0.49096997772537115,0.476273755464779,0.5461564806499779,0.5996887009064547,0.5756700634044352,0.48858537123917567,0.5175371626623606,0.5075270850889564,0.4982979190135558,0.5126761156189235,0.41118455761446954,0.5356474922240577,0.5478174497124765,0.5308018080505842,0.47665960300991367,0.4551810107836948,0.51197908775703,0.5347675257111767,0.5199387153279172,0.4614572295641043,0.5365377313836114,0.5371747159274691,0.5214211967488451,0.5027145340579926,0.48453860657729036,0.5355510662791942,0.6444982041304004,0.460680392387103,0.4430032101233618,0.5121277954157377,0.5765405150819592,0.5794930055494502,0.5704016726993734,0.48900532558105964,0.5033606958120418,0.5166517559509507,0.5555624328203438,0.5730802665832642,0.4476903285717489,0.4716308875359995,0.5153004448351437,0.5497244379493397,0.5034473798169531,0.6362053736786834,0.5109553769461141,0.5298580577950399,0.4783248477435892,0.5921693996370763,0.4168120190183796,0.5894713858404967,0.46244537029115357,0.41563143055914964,0.4989802875615502,0.4758183574680365,0.4807959024711793,0.49677019166503056,0.4249460081596214,0.5549731447152443,0.5948551317082836,0.45590885852212854,0.5110723807153398,0.47584721155099535,0.45159759334538685,0.5421584779366375,0.5955680561753454,0.5665781362179347,0.6102501296393349,0.5100809605458874,0.5755483910645383,0.475861510645607,0.4947199298109534,0.4765599968174301,0.5127038409461102,0.5346533524734267,0.43470308707194766,0.588841015615394,0.4697891136999466,0.5007571628183906,0.5652791014442495,0.47949841540633237,0.48415364741755246,0.4683753207261185,0.4670534092752297,0.5478415432430823,0.5240644478115069,0.4902702232914881,0.478254098061195,0.46922140911647814,0.558248911464643,0.5012506938095693,0.5086983789901687,0.4890189946226082,0.41575146919171524,0.4204411814261365,0.5609768139352659,0.5231766145646447,0.42903365486324857,0.5080388161948233,0.47806362330252034,0.47460559998979907,0.4869831345741513,0.4683630017962509,0.5000577569365589,0.4558401032080029,0.4284400927312446,0.5139948723867616,0.5099488301395952,0.5108014453614452,0.5222938939421984,0.43793126833160295,0.474567836979491,0.6054023980565222,0.38450447799671067,0.47452980062505085,0.5179266251923965,0.49608282536134246,0.5270620899237891,0.5092751046760179,0.45833762186897137,0.39711674183952234,0.5006250888722052,0.5417807538699173,0.5085715229558602,0.46520671397622904,0.38794843467143897,0.5226850270833575,0.45912329540613955,0.5028241345343267,0.5090855911864841,0.46361080944389693,0.5242796659381838,0.6082940230172812,0.5246908373813345,0.4245148762276726,0.6031526893278496,0.557488477825624,0.5736932297509806,0.5523017039457538,0.4330836764457177,0.38939127988344074,0.5837743736818711,0.5251124303014697,0.5315094240075819,0.478758148145041,0.4286346143625622,0.5481504722805148,0.5008268564969707,0.5732295069824133,0.5176090803199533,0.4952691790587195,0.5841154234000165,0.5810166497325234,0.43438280362674986,0.5170885647277056,0.5258164847516464,0.56649523678247,0.516360966771686,0.5338732754561548,0.5052575340947165,0.40695735967543506,0.5136954404126545,0.47969461789731216,0.5415070809625288,0.44218310694431195,0.41055266682911834,0.5127783236460871,0.48515350731102713,0.5370377037820914,0.537437862897078,0.5641185567404571,0.5758789621152224,0.4953774061871538,0.5510255707777573,0.6053550992363521,0.5150263377161748,0.5036952247744986,0.49612070532372166,0.5167674211007249,0.5095336389110886,0.5166732231990311,0.4949730781922311,0.4489749160918096,0.4534325111169057,0.5753261890531584,0.39998406642820256,0.38992002742106213,0.5005338390253333,0.502764769946929,0.5011476498172569,0.4873307524642366,0.5562055946094294,0.49510691115128946,0.4953168792544515,0.4674505967452946,0.5057167898731234,0.48318224332482246,0.5082941595005575,0.44416530184381875,0.5627822886730407,0.5741769995652938,0.4856812824012795,0.46879607045855093,0.5266898701901982,0.5186572401638508,0.5762144366355547,0.5337461007722306,0.5403024768058159,0.4245818178676987,0.4324887369758009,0.5276461790783575,0.4780107106575761,0.5514290271802683,0.42562490265999925,0.514842135939429,0.5737757476541281,0.530911932959247,0.5567434475556442,0.48877579237831664,0.5750185418044097,0.5034051358222843,0.6096445194130595,0.3685330988731123,0.5834384088881628,0.5037992084543759,0.5499985528873088,0.4485582951626584,0.4437166463924169,0.4719373580005899,0.5843867886235576,0.5126200514439544,0.5460096902772158,0.38658142002232515,0.5325867657099824,0.4882476235087184,0.5034665923210859,0.46592406193042646,0.4907839738298107,0.49336173262489424,0.5812368260255991,0.4436392084537196,0.5268340340853924,0.37358421349764953,0.511929971347679,0.45272212999751804,0.491163659803417,0.4551665937684601,0.5100002656005922,0.41809536783068724,0.46021299520146675,0.5011174420797564,0.5822908894813893,0.5590042752778366,0.38169729012197373,0.5030230374687742,0.486210395760648,0.4102581647778164,0.5025064938029805,0.5450358025399662,0.4554395324685439,0.5495972273095486,0.5705147297291285,0.5720816140083768,0.5449108637821204,0.43331991733051906,0.4700546607210897,0.4527117315286269,0.5280445028467579,0.41734966399487056,0.5198593894430054,0.4610142215902647,0.5139615877662785,0.4420053987831594,0.5342080570122777,0.4718536268809919,0.42264495633289095,0.5450952021504563,0.45431811310950787,0.5246448001795161,0.5249898313304453,0.5089428491919935,0.4796825613484051,0.5854679092421377,0.4860879824659295,0.5427478575745425,0.4444314768085036,0.48181164314571834,0.4516329506125051,0.6041636161437612,0.5405067805974617,0.6040956478090257,0.497149774997242,0.48321187063624005,0.4956544224785746,0.4502133473814209,0.4785828639192718,0.43663017847102126,0.546057781463617,0.6295821993704382,0.4336842783096657,0.5688192205159726,0.41197576844621053,0.5666445500382451,0.5022817461997734,0.4000184918367886,0.5004613584869142,0.5254651156739043,0.562044858384141,0.4814520886320395,0.38531078608150826,0.5378146629419019,0.472167019303379,0.5269214797620055,0.5170286155234118,0.6396941881830068,0.49328258626013965,0.538782479526418,0.4742760280317105,0.39101073990266283,0.45253252458515136,0.604002593286371,0.48365137479858533,0.5103524120366748,0.5101943374143574,0.49376495773877804,0.521662121426723,0.48880205213730077,0.5267165044693128,0.594142090169621,0.49513727593058443,0.4957603459837852,0.49977525444049714,0.4547322251458868,0.5550082657291214,0.4793568016608822,0.47296936909160153,0.40885041027794894,0.511559390637165,0.48800112764414566,0.5356307071323732,0.5047105190731292,0.5978870386191957,0.5719071781106185,0.5002895353797692,0.5153405392966172,0.5010264718064467,0.4618832631894505,0.4301275466032153,0.4361095148621022,0.45998170091311663,0.48996767073420644,0.531734147550033,0.4766426355681734,0.4712625502217948,0.49959993232627625,0.5331518384713895,0.49817316380817606,0.559667518953141,0.47730410411620916,0.5242809062419945,0.46040533919512844,0.47607892992257345,0.4539682226113034,0.39638647872567734,0.510443033072184,0.5585832857689395,0.48189737604344157,0.4421581595440602,0.526223373743153,0.5582289333611551,0.595907418113048,0.5240392907670545,0.5243257386589565,0.4494060857655873,0.5124574037514144,0.43399884079571127,0.5091041376900536,0.5481694037961482,0.5741967855594697,0.45553982961272077,0.4859784977113108,0.5509540498505822,0.4834309813450962,0.4372947694894101,0.46910481885835337,0.4398378337933413,0.5222974740148125,0.49062789771341186,0.4445923984063482,0.6103360418768623,0.4110948266288276,0.42735978289035165,0.5055945767020974,0.42028112410577195,0.45202410912665897,0.5162394821026951,0.6181686609317328,0.46493774015462974,0.49511213645780966,0.4662233299769406,0.5607173696530626,0.4549110305782412,0.5076834948539118,0.5086270451661049,0.5659679007308611,0.4960395900013075,0.507574839422846,0.5393567863102006,0.5350268830985087,0.5155280977542006,0.5273441176534769,0.5343235818939058,0.5304049862834315,0.5429865301091847,0.521071044534185,0.5330125753727033,0.4719564546217718,0.5199860223162576,0.5634176469527177,0.577077601715223,0.5063823956575321,0.48193040186735586,0.44068866183212935,0.49861648080325216,0.41380899239444546,0.4404870712410642,0.5226517422965054,0.44592901986910394,0.5309279284372653,0.5640193532750752,0.5162668906436314,0.5021240892225692,0.515574388814682,0.48977027142043594,0.39852672525173455,0.5184813443457812,0.45207742457700895,0.41169736365037385,0.48785988493082255,0.5186933187956939,0.4236722526031815,0.47504394419404367,0.391961075176806,0.5583332611300468,0.5426447341372598,0.45881127735316224,0.4883299313294533,0.6046251399890629,0.4546670535075811,0.4054439355990454,0.45326799359337716,0.47704128474845564,0.5977998243483037,0.545646062479588,0.4892495227601168,0.5127716588409216,0.5320301657632023,0.52330286173628,0.44905696441164555,0.5621538333978756,0.5251689312897029,0.5255181624259793,0.45000063333724366,0.40935579969575653,0.5815189355069598,0.4709742532093582,0.3975437837282017,0.4982271592605302,0.4930817341841212,0.4903207799346525,0.5212121587818178,0.4924974426670879,0.49465994627370535,0.509757105295798,0.5284588892372051,0.5025420854007447,0.5549728333598295,0.4779390833938468,0.537766353118554,0.5196487871908735,0.4150272921728109,0.49301233884497747,0.5293516827099429,0.5733014984683965,0.4518296192252594,0.5282626803789999,0.5330462173347057,0.4065491057232253,0.42565590195561254,0.4442225948559864,0.5904779350732441,0.5384153267944344,0.46760732682670086,0.5451784837427879,0.5217815099874377,0.5352586221785823,0.4961852990850292,0.5802223163995995,0.5246011600865358,0.5194043396547678,0.49923417871352743,0.4743336598815003,0.5300684894228019,0.5189762236272264,0.4377385512443154,0.502971612106818,0.48364860790126074,0.4670746613755245,0.48830066388573046,0.5314631720058435,0.5254303579059147,0.5719686885721275,0.4829216632643916,0.4812567031617108,0.5616365887941243,0.46662473942940497,0.48177197541172906,0.561581222298438,0.4997147762906785,0.47823088020568766,0.40357653972177426,0.4773895302006044,0.49374548624385584,0.513172413454151,0.47256512474865253,0.5151801748391429,0.4362470916771677,0.43561535062402246,0.46832904059466574,0.4802441607716251,0.5400331566106424,0.5322131086838329,0.4344472352159853,0.3630129438214889,0.49414253631013866,0.43380194465898003,0.4923364699706932,0.5139085989957933,0.4761869090223657,0.4489772204617428,0.4450472333689208,0.6017367652809675,0.4104571292095575,0.44336278972658066,0.4284434532016704,0.5217021227899186,0.5640961901783655,0.4812788738546336,0.5289623508965933,0.43191711084296286,0.49114102296615286,0.4537928190331961,0.5349916826489919,0.49847346365192174,0.5091763065785695,0.4825266919305277,0.4826629252374556,0.4578582320103351,0.5389657043996684,0.46511817217362034,0.4726089788529516,0.5852689665408588,0.4903389826494721,0.531639850859224,0.5738043668370792,0.5595604390400808,0.47584759158556134,0.5066274671765116,0.4294762911642963,0.4904159615862225,0.49163379512178046,0.48711435348606574,0.5578712432959356,0.3783144921484153,0.5369219573638015,0.5399015711049502,0.5227909511973159,0.4785776546388979,0.5533565049973959,0.5086218044340437,0.46665375372145135,0.5204672660717574,0.5006655541236265,0.44754131063008606,0.5333321253870895,0.4604965457605506,0.48778997478792374,0.5793347541556364,0.5760369138430834,0.4512614335854672,0.5371180922342984,0.5358870531511891,0.5029693723079942,0.49487941230473476,0.4888949890871476,0.5699960745897452,0.5030662069232735,0.5195826434128437,0.5120375400033901,0.4582869153296094,0.5618195611909664,0.43921533739385504,0.4426036932511366,0.4851558745467703,0.420780179782078,0.48859830006712035,0.5150590474000325,0.4408400681806115,0.49169100925495424,0.5503776276624774,0.44050325291949005,0.4885030771348207,0.5069627230469033,0.48363492057061336,0.41053040164284876,0.4296966616036168,0.45916229407435877,0.48999574148434644,0.5343194721248831,0.4883090505470324,0.5167991653090751,0.4349609151355686,0.46541994128807945,0.5441186648570225,0.5365589533387612,0.42927656280622667,0.43662972541904294,0.5917280956456814,0.5630359933095422,0.35136819793542445,0.5182609104130248,0.48905626509179967,0.47487534260010006,0.6005890083571374,0.6390616698695344,0.5443133725838909,0.4644375800936687,0.49475416776661535],\"xaxis\":\"x\",\"y\":[1,1,1,1,1,1,1,1,1,1,1,1,1,1,1,1,1,1,1,1,1,1,1,1,1,1,1,1,1,1,1,1,1,1,1,1,1,1,1,1,1,1,1,1,1,1,1,1,1,1,1,1,1,1,1,1,1,1,1,1,1,1,1,1,1,1,1,1,1,1,1,1,1,1,1,1,1,1,1,1,1,1,1,1,1,1,1,1,1,1,1,1,1,1,1,1,1,1,1,1,1,1,1,1,1,1,1,1,1,1,1,1,1,1,1,1,1,1,1,1,1,1,1,1,1,1,1,1,1,1,1,1,1,1,1,1,1,1,1,1,1,1,1,1,1,1,1,1,1,1,1,1,1,1,1,1,1,1,1,1,1,1,1,1,1,1,1,1,1,1,1,1,1,1,1,1,1,1,1,1,1,1,1,1,1,1,1,1,1,1,1,1,1,1,1,1,1,1,1,1,1,1,1,1,1,1,1,1,1,1,1,1,1,1,1,1,1,1,1,1,1,1,1,1,1,1,1,1,1,1,1,1,1,1,1,1,1,1,1,1,1,1,1,1,1,1,1,1,1,1,1,1,1,1,1,1,1,1,1,1,1,1,1,1,1,1,1,1,1,1,1,1,1,1,1,1,1,1,1,1,1,1,1,1,1,1,1,1,1,1,1,1,1,1,1,1,1,1,1,1,1,1,1,1,1,1,1,1,1,1,1,1,1,1,1,1,1,1,1,1,1,1,1,1,1,1,1,1,1,1,1,1,1,1,1,1,1,1,1,1,1,1,1,1,1,1,1,1,1,1,1,1,1,1,1,1,1,1,1,1,1,1,1,1,1,1,1,1,1,1,1,1,1,1,1,1,1,1,1,1,1,1,1,1,1,1,1,1,1,1,1,1,1,1,1,1,1,1,1,1,1,1,1,1,1,1,1,1,1,1,1,1,1,1,1,1,1,1,1,1,1,1,1,1,1,1,1,1,1,1,1,1,1,1,1,1,1,1,1,1,1,1,1,1,1,1,1,1,1,1,1,1,1,1,1,1,1,1,1,1,1,1,1,1,1,1,1,1,1,1,1,1,1,1,1,1,1,1,1,1,1,1,1,1,1,1,1,1,1,1,1,1,1,1,1,1,1,1,1,1,1,1,1,1,1,1,1,1,1,1,1,1,1,1,1,1,1,1,1,1,1,1,1,1,1,1,1,1,1,1,1,1,1,1,1,1,1,1,1,1,1,1,1,1,1,1,1,1,1,1,1,1,1,1,1,1,1,1,1,1,1,1,1,1,1,1,1,1,1,1,1,1,1,1,1,1,1,1,1,1,1,1,1,1,1,1,1,1,1,1,1,1,1,1,1,1,1,1,1,1,1,1,1,1,1,1,1,1,1,1,1,1,1,1,1,1,1,1,1,1,1,1,1,1,1,1,1,1,1,1,1,1,1,1,1,1,1,1,1,1,1,1,1,1,1,1,1,1,1,1,1,1,1,1,1,1,1,1,1,1,1,1,1,1,1,1,1,1,1,1,1,1,1,1,1,1,1,1,1,1,1,1,1,1,1,1,1,1,1,1,1,1,1,1,1,1,1,1,1,1,1,1,1,1,1,1,1,1,1,1,1,1,1,1,1,1,1,1,1,1,1,1,1,1,1,1,1,1,1,1,1,1,1,1,1,1,1,1,1,1,1,1,1,1,1,1,1,1,1,1,1,1,1,1,1,1,1,1,1,1,1,1,1,1,1,1,1,1,1,1,1,1,1,1,1,1,1,1,1,1,1,1,1,1,1,1,1,1,1,1,1,1,1,1,1,1,1,1,1,1,1,1,1,1,1,1,1,1,1,1,1,1,1,1,1,1,1,1,1,1,1,1,1,1,1,1,1,1,1,1,1,1,1,1,1,1,1,1,1,1,1,1,1,1,1,1,1,1,1,1,1,1,1,1,1,1,1,1,1,1,1,1,1,1,1,1,1,1,1,1,1,1,1,1,1,1,1,1,1,1,1,1,1,1,1,1,1,1,1,1,1,1,1,1,1,1,1,1,1,1,1,1,1,1,1,1,1,1,1,1,1,1,1,1,1,1,1,1,1,1,1,1,1,1,1,1,1,1,1,1,1,1,1,1,1,1,1,1,1,1,1,1,1,1,1,1,1,1,1,1,1,1,1,1,1,1,1,1,1,1,1,1,1,1,1,1,1,1,1,1,1,1,1,1,1,1,1,1,1,1,1,1,1,1,1,1,1,1,1,1,1,1,1,1,1,1,1,1,1,1],\"yaxis\":\"y\",\"type\":\"histogram\"}],                        {\"template\":{\"data\":{\"histogram2dcontour\":[{\"type\":\"histogram2dcontour\",\"colorbar\":{\"outlinewidth\":0,\"ticks\":\"\"},\"colorscale\":[[0.0,\"#0d0887\"],[0.1111111111111111,\"#46039f\"],[0.2222222222222222,\"#7201a8\"],[0.3333333333333333,\"#9c179e\"],[0.4444444444444444,\"#bd3786\"],[0.5555555555555556,\"#d8576b\"],[0.6666666666666666,\"#ed7953\"],[0.7777777777777778,\"#fb9f3a\"],[0.8888888888888888,\"#fdca26\"],[1.0,\"#f0f921\"]]}],\"choropleth\":[{\"type\":\"choropleth\",\"colorbar\":{\"outlinewidth\":0,\"ticks\":\"\"}}],\"histogram2d\":[{\"type\":\"histogram2d\",\"colorbar\":{\"outlinewidth\":0,\"ticks\":\"\"},\"colorscale\":[[0.0,\"#0d0887\"],[0.1111111111111111,\"#46039f\"],[0.2222222222222222,\"#7201a8\"],[0.3333333333333333,\"#9c179e\"],[0.4444444444444444,\"#bd3786\"],[0.5555555555555556,\"#d8576b\"],[0.6666666666666666,\"#ed7953\"],[0.7777777777777778,\"#fb9f3a\"],[0.8888888888888888,\"#fdca26\"],[1.0,\"#f0f921\"]]}],\"heatmap\":[{\"type\":\"heatmap\",\"colorbar\":{\"outlinewidth\":0,\"ticks\":\"\"},\"colorscale\":[[0.0,\"#0d0887\"],[0.1111111111111111,\"#46039f\"],[0.2222222222222222,\"#7201a8\"],[0.3333333333333333,\"#9c179e\"],[0.4444444444444444,\"#bd3786\"],[0.5555555555555556,\"#d8576b\"],[0.6666666666666666,\"#ed7953\"],[0.7777777777777778,\"#fb9f3a\"],[0.8888888888888888,\"#fdca26\"],[1.0,\"#f0f921\"]]}],\"heatmapgl\":[{\"type\":\"heatmapgl\",\"colorbar\":{\"outlinewidth\":0,\"ticks\":\"\"},\"colorscale\":[[0.0,\"#0d0887\"],[0.1111111111111111,\"#46039f\"],[0.2222222222222222,\"#7201a8\"],[0.3333333333333333,\"#9c179e\"],[0.4444444444444444,\"#bd3786\"],[0.5555555555555556,\"#d8576b\"],[0.6666666666666666,\"#ed7953\"],[0.7777777777777778,\"#fb9f3a\"],[0.8888888888888888,\"#fdca26\"],[1.0,\"#f0f921\"]]}],\"contourcarpet\":[{\"type\":\"contourcarpet\",\"colorbar\":{\"outlinewidth\":0,\"ticks\":\"\"}}],\"contour\":[{\"type\":\"contour\",\"colorbar\":{\"outlinewidth\":0,\"ticks\":\"\"},\"colorscale\":[[0.0,\"#0d0887\"],[0.1111111111111111,\"#46039f\"],[0.2222222222222222,\"#7201a8\"],[0.3333333333333333,\"#9c179e\"],[0.4444444444444444,\"#bd3786\"],[0.5555555555555556,\"#d8576b\"],[0.6666666666666666,\"#ed7953\"],[0.7777777777777778,\"#fb9f3a\"],[0.8888888888888888,\"#fdca26\"],[1.0,\"#f0f921\"]]}],\"surface\":[{\"type\":\"surface\",\"colorbar\":{\"outlinewidth\":0,\"ticks\":\"\"},\"colorscale\":[[0.0,\"#0d0887\"],[0.1111111111111111,\"#46039f\"],[0.2222222222222222,\"#7201a8\"],[0.3333333333333333,\"#9c179e\"],[0.4444444444444444,\"#bd3786\"],[0.5555555555555556,\"#d8576b\"],[0.6666666666666666,\"#ed7953\"],[0.7777777777777778,\"#fb9f3a\"],[0.8888888888888888,\"#fdca26\"],[1.0,\"#f0f921\"]]}],\"mesh3d\":[{\"type\":\"mesh3d\",\"colorbar\":{\"outlinewidth\":0,\"ticks\":\"\"}}],\"scatter\":[{\"fillpattern\":{\"fillmode\":\"overlay\",\"size\":10,\"solidity\":0.2},\"type\":\"scatter\"}],\"parcoords\":[{\"type\":\"parcoords\",\"line\":{\"colorbar\":{\"outlinewidth\":0,\"ticks\":\"\"}}}],\"scatterpolargl\":[{\"type\":\"scatterpolargl\",\"marker\":{\"colorbar\":{\"outlinewidth\":0,\"ticks\":\"\"}}}],\"bar\":[{\"error_x\":{\"color\":\"#2a3f5f\"},\"error_y\":{\"color\":\"#2a3f5f\"},\"marker\":{\"line\":{\"color\":\"#E5ECF6\",\"width\":0.5},\"pattern\":{\"fillmode\":\"overlay\",\"size\":10,\"solidity\":0.2}},\"type\":\"bar\"}],\"scattergeo\":[{\"type\":\"scattergeo\",\"marker\":{\"colorbar\":{\"outlinewidth\":0,\"ticks\":\"\"}}}],\"scatterpolar\":[{\"type\":\"scatterpolar\",\"marker\":{\"colorbar\":{\"outlinewidth\":0,\"ticks\":\"\"}}}],\"histogram\":[{\"marker\":{\"pattern\":{\"fillmode\":\"overlay\",\"size\":10,\"solidity\":0.2}},\"type\":\"histogram\"}],\"scattergl\":[{\"type\":\"scattergl\",\"marker\":{\"colorbar\":{\"outlinewidth\":0,\"ticks\":\"\"}}}],\"scatter3d\":[{\"type\":\"scatter3d\",\"line\":{\"colorbar\":{\"outlinewidth\":0,\"ticks\":\"\"}},\"marker\":{\"colorbar\":{\"outlinewidth\":0,\"ticks\":\"\"}}}],\"scattermapbox\":[{\"type\":\"scattermapbox\",\"marker\":{\"colorbar\":{\"outlinewidth\":0,\"ticks\":\"\"}}}],\"scatterternary\":[{\"type\":\"scatterternary\",\"marker\":{\"colorbar\":{\"outlinewidth\":0,\"ticks\":\"\"}}}],\"scattercarpet\":[{\"type\":\"scattercarpet\",\"marker\":{\"colorbar\":{\"outlinewidth\":0,\"ticks\":\"\"}}}],\"carpet\":[{\"aaxis\":{\"endlinecolor\":\"#2a3f5f\",\"gridcolor\":\"white\",\"linecolor\":\"white\",\"minorgridcolor\":\"white\",\"startlinecolor\":\"#2a3f5f\"},\"baxis\":{\"endlinecolor\":\"#2a3f5f\",\"gridcolor\":\"white\",\"linecolor\":\"white\",\"minorgridcolor\":\"white\",\"startlinecolor\":\"#2a3f5f\"},\"type\":\"carpet\"}],\"table\":[{\"cells\":{\"fill\":{\"color\":\"#EBF0F8\"},\"line\":{\"color\":\"white\"}},\"header\":{\"fill\":{\"color\":\"#C8D4E3\"},\"line\":{\"color\":\"white\"}},\"type\":\"table\"}],\"barpolar\":[{\"marker\":{\"line\":{\"color\":\"#E5ECF6\",\"width\":0.5},\"pattern\":{\"fillmode\":\"overlay\",\"size\":10,\"solidity\":0.2}},\"type\":\"barpolar\"}],\"pie\":[{\"automargin\":true,\"type\":\"pie\"}]},\"layout\":{\"autotypenumbers\":\"strict\",\"colorway\":[\"#636efa\",\"#EF553B\",\"#00cc96\",\"#ab63fa\",\"#FFA15A\",\"#19d3f3\",\"#FF6692\",\"#B6E880\",\"#FF97FF\",\"#FECB52\"],\"font\":{\"color\":\"#2a3f5f\"},\"hovermode\":\"closest\",\"hoverlabel\":{\"align\":\"left\"},\"paper_bgcolor\":\"white\",\"plot_bgcolor\":\"#E5ECF6\",\"polar\":{\"bgcolor\":\"#E5ECF6\",\"angularaxis\":{\"gridcolor\":\"white\",\"linecolor\":\"white\",\"ticks\":\"\"},\"radialaxis\":{\"gridcolor\":\"white\",\"linecolor\":\"white\",\"ticks\":\"\"}},\"ternary\":{\"bgcolor\":\"#E5ECF6\",\"aaxis\":{\"gridcolor\":\"white\",\"linecolor\":\"white\",\"ticks\":\"\"},\"baxis\":{\"gridcolor\":\"white\",\"linecolor\":\"white\",\"ticks\":\"\"},\"caxis\":{\"gridcolor\":\"white\",\"linecolor\":\"white\",\"ticks\":\"\"}},\"coloraxis\":{\"colorbar\":{\"outlinewidth\":0,\"ticks\":\"\"}},\"colorscale\":{\"sequential\":[[0.0,\"#0d0887\"],[0.1111111111111111,\"#46039f\"],[0.2222222222222222,\"#7201a8\"],[0.3333333333333333,\"#9c179e\"],[0.4444444444444444,\"#bd3786\"],[0.5555555555555556,\"#d8576b\"],[0.6666666666666666,\"#ed7953\"],[0.7777777777777778,\"#fb9f3a\"],[0.8888888888888888,\"#fdca26\"],[1.0,\"#f0f921\"]],\"sequentialminus\":[[0.0,\"#0d0887\"],[0.1111111111111111,\"#46039f\"],[0.2222222222222222,\"#7201a8\"],[0.3333333333333333,\"#9c179e\"],[0.4444444444444444,\"#bd3786\"],[0.5555555555555556,\"#d8576b\"],[0.6666666666666666,\"#ed7953\"],[0.7777777777777778,\"#fb9f3a\"],[0.8888888888888888,\"#fdca26\"],[1.0,\"#f0f921\"]],\"diverging\":[[0,\"#8e0152\"],[0.1,\"#c51b7d\"],[0.2,\"#de77ae\"],[0.3,\"#f1b6da\"],[0.4,\"#fde0ef\"],[0.5,\"#f7f7f7\"],[0.6,\"#e6f5d0\"],[0.7,\"#b8e186\"],[0.8,\"#7fbc41\"],[0.9,\"#4d9221\"],[1,\"#276419\"]]},\"xaxis\":{\"gridcolor\":\"white\",\"linecolor\":\"white\",\"ticks\":\"\",\"title\":{\"standoff\":15},\"zerolinecolor\":\"white\",\"automargin\":true,\"zerolinewidth\":2},\"yaxis\":{\"gridcolor\":\"white\",\"linecolor\":\"white\",\"ticks\":\"\",\"title\":{\"standoff\":15},\"zerolinecolor\":\"white\",\"automargin\":true,\"zerolinewidth\":2},\"scene\":{\"xaxis\":{\"backgroundcolor\":\"#E5ECF6\",\"gridcolor\":\"white\",\"linecolor\":\"white\",\"showbackground\":true,\"ticks\":\"\",\"zerolinecolor\":\"white\",\"gridwidth\":2},\"yaxis\":{\"backgroundcolor\":\"#E5ECF6\",\"gridcolor\":\"white\",\"linecolor\":\"white\",\"showbackground\":true,\"ticks\":\"\",\"zerolinecolor\":\"white\",\"gridwidth\":2},\"zaxis\":{\"backgroundcolor\":\"#E5ECF6\",\"gridcolor\":\"white\",\"linecolor\":\"white\",\"showbackground\":true,\"ticks\":\"\",\"zerolinecolor\":\"white\",\"gridwidth\":2}},\"shapedefaults\":{\"line\":{\"color\":\"#2a3f5f\"}},\"annotationdefaults\":{\"arrowcolor\":\"#2a3f5f\",\"arrowhead\":0,\"arrowwidth\":1},\"geo\":{\"bgcolor\":\"white\",\"landcolor\":\"#E5ECF6\",\"subunitcolor\":\"white\",\"showland\":true,\"showlakes\":true,\"lakecolor\":\"white\"},\"title\":{\"x\":0.05},\"mapbox\":{\"style\":\"light\"}}},\"xaxis\":{\"anchor\":\"y\",\"domain\":[0.0,1.0],\"title\":{\"text\":\"x\"}},\"yaxis\":{\"anchor\":\"x\",\"domain\":[0.0,1.0],\"title\":{\"text\":\"sum of y\"}},\"legend\":{\"tracegroupgap\":0},\"margin\":{\"t\":60},\"barmode\":\"relative\"},                        {\"responsive\": true}                    ).then(function(){\n",
              "                            \n",
              "var gd = document.getElementById('c4b28341-b443-4f88-928a-b4d7312b42bd');\n",
              "var x = new MutationObserver(function (mutations, observer) {{\n",
              "        var display = window.getComputedStyle(gd).display;\n",
              "        if (!display || display === 'none') {{\n",
              "            console.log([gd, 'removed!']);\n",
              "            Plotly.purge(gd);\n",
              "            observer.disconnect();\n",
              "        }}\n",
              "}});\n",
              "\n",
              "// Listen for the removal of the full notebook cells\n",
              "var notebookContainer = gd.closest('#notebook-container');\n",
              "if (notebookContainer) {{\n",
              "    x.observe(notebookContainer, {childList: true});\n",
              "}}\n",
              "\n",
              "// Listen for the clearing of the current output cell\n",
              "var outputEl = gd.closest('.output');\n",
              "if (outputEl) {{\n",
              "    x.observe(outputEl, {childList: true});\n",
              "}}\n",
              "\n",
              "                        })                };                            </script>        </div>\n",
              "</body>\n",
              "</html>"
            ]
          },
          "metadata": {}
        }
      ]
    },
    {
      "cell_type": "markdown",
      "source": [
        " The individual numbers in the samples alone will not\n",
        " create a normal distribution. The distribution will be flat where any number is\n",
        " equally likely (known as a uniform distribution). But when we group them as\n",
        " samples and average them they form a normal distribution, and this is because of the Central Limit Theorem\n",
        "#### how much sample is enough?\n",
        " While 31 is the textbook number of items you need in a sample to satisfy the\n",
        " central limit theorem and see a normal distribution, this sometimes is not the\n",
        " case. There are cases you will need an even larger sample, such as when the\n",
        " underlying distribution is asymmetrical or multimodal (meaning it has\n",
        " several peaks rather than one at the mean).\n",
        " In summary, having larger samples are better when you are uncertain of the\n",
        " underlying probability distribution. You can read more in [this article.](https://www.dummies.com/article/academics-the-arts/math/statistics/the-central-limit-theorem-whats-large-enough-142651/)"
      ],
      "metadata": {
        "id": "1RMsPGF5hdEX"
      }
    },
    {
      "cell_type": "markdown",
      "source": [
        "#### Confidence Interval\n",
        "\n",
        " A confidence interval is a range calculation showing\n",
        " how confidently we believe a sample mean (or other parameter) falls in a range\n",
        " for the population mean. In Machine Learning, it is used mainly for testing on the performance and accuracy of a model. We will be using the normal standard distribution so for this formulas to work the sample must be equal or greater than 31, according to the Central Limit Theorem. For smaller samples is needed to use the T-distribution."
      ],
      "metadata": {
        "id": "RXAk0MxmkT6M"
      }
    },
    {
      "cell_type": "markdown",
      "source": [
        "For the confidence interval, we need first our parameters in the sample and a **Level Of Confidence**, which is the probability we want to prove. Then we must calculate the **critical Z-value** which is the\n",
        "symmetrical range in a standard normal distribution that gives me the LOC in the center, for that we can use the inverse CDF to calculate which points containt our area of interest taking the resting probability of our LOC and splitting it so we can have the center area. Then we must calculate the  **margin of error (E)**, which is the range around the sample mean that contains the population mean at our LOC, following this:\n",
        "$E=\\pm z_c\\frac{s}{\\sqrt n}$. Applying the margin of error to the sample mean gives us the confidence interval."
      ],
      "metadata": {
        "id": "-WziWpecdOoA"
      }
    },
    {
      "cell_type": "code",
      "source": [
        "from scipy.stats import norm\n",
        "import math as mt\n",
        "\n",
        "def critical_z(loc):\n",
        "  norm_dist = norm(loc=0.0,scale=1.0)\n",
        "  left_tail = (1 - loc) /2\n",
        "  right_tail = 1 - left_tail\n",
        "  return norm_dist.ppf(left_tail), norm_dist.ppf(right_tail)\n",
        "\n",
        "def confidence_interval(loc, sample_mean, sample_std_dev, n):\n",
        "  lower,upper= critical_z(loc)\n",
        "  error= sample_std_dev / mt.sqrt(n)\n",
        "  return sample_mean + lower * error, sample_mean + upper * error"
      ],
      "metadata": {
        "id": "IaXsNABGh6Xb"
      },
      "execution_count": null,
      "outputs": []
    },
    {
      "cell_type": "markdown",
      "source": [
        "##### example"
      ],
      "metadata": {
        "id": "RN0CaSVDqr5O"
      }
    },
    {
      "cell_type": "markdown",
      "source": [
        "**Base on a sample of 31 golden retrievers with a sample mean of 64.408 and\n",
        "a sample standard deviation of 2.05, I am 95% confident that the\n",
        "population mean lies between 63.686 and 65.1296.** How do I know this?\n",
        "\n",
        "I want to be 95% confident that my sample mean falls in the population mean range I will calculate, so that is my LOC. The critical Z value i in this case the symmetrical range in a standard normal distribution that gives me 95% probability in the center.\n",
        "\n",
        "Logically to get 95% of the symmetrical area in the center, we would chop off the tails which have the\n",
        " remaining 5% of area. Splitting that remaining 5% area in half would give us\n",
        " 2.5% area in each tail. Therefore, the areas we want to look up the x-values for\n",
        " are .025 and .975. Using the inverse CDF we can achieve this.  \n",
        "\n",
        " We will then return the\n",
        " corresponding lower and upper z-values containing this area. Remember, we are\n",
        " using standard normal distribution here so they will be the same other than being\n",
        " positive/negative"
      ],
      "metadata": {
        "id": "nTtT3iEemHjg"
      }
    },
    {
      "cell_type": "code",
      "source": [
        "critical_z(.95)"
      ],
      "metadata": {
        "colab": {
          "base_uri": "https://localhost:8080/"
        },
        "id": "DSE5tZOKn2e2",
        "outputId": "917c0bea-fc07-4cdc-e710-e6723722799b"
      },
      "execution_count": null,
      "outputs": [
        {
          "output_type": "execute_result",
          "data": {
            "text/plain": [
              "(-1.959963984540054, 1.959963984540054)"
            ]
          },
          "metadata": {},
          "execution_count": 3
        }
      ]
    },
    {
      "cell_type": "markdown",
      "source": [
        "Okay so we get ± 1.95996 which is our critical Z-value capturing 95% of\n",
        " probability at the center of the standard normal distribution. Next we calculate the margin of error. Recall that our sample of 31 golden retrievers has a mean of 64.408 and standard deviation of 2.05."
      ],
      "metadata": {
        "id": "1tHXedH8n83C"
      }
    },
    {
      "cell_type": "code",
      "source": [
        "lower,upper= critical_z(.95)\n",
        "error= 2.05 / mt.sqrt(31)\n",
        "lower*error, upper* error"
      ],
      "metadata": {
        "colab": {
          "base_uri": "https://localhost:8080/"
        },
        "id": "mSqyvVdEoVa1",
        "outputId": "9ac434ac-91be-41bb-9c52-7d31f3be042b"
      },
      "execution_count": null,
      "outputs": [
        {
          "output_type": "execute_result",
          "data": {
            "text/plain": [
              "(-0.721640842980081, 0.721640842980081)"
            ]
          },
          "metadata": {},
          "execution_count": 4
        }
      ]
    },
    {
      "cell_type": "markdown",
      "source": [
        "Finally, if we apply that margin of error against the sample mean, we get the confidence interval! $\\text{95% confidence interval} = 64.408 ± 0.72164$"
      ],
      "metadata": {
        "id": "D7H6Ekc1ou_8"
      }
    },
    {
      "cell_type": "code",
      "source": [
        "confidence_interval(.95,64.408,2.05,31)"
      ],
      "metadata": {
        "colab": {
          "base_uri": "https://localhost:8080/"
        },
        "id": "NzZPs16XpD6c",
        "outputId": "eb7217eb-ef16-431e-ff6e-3d00b10c9fbd"
      },
      "execution_count": null,
      "outputs": [
        {
          "output_type": "execute_result",
          "data": {
            "text/plain": [
              "(63.68635915701992, 65.12964084298008)"
            ]
          },
          "metadata": {},
          "execution_count": 5
        }
      ]
    },
    {
      "cell_type": "markdown",
      "source": [
        " So the way to interpret this is “based on my sample of 31 golden retriever\n",
        " weights with sample mean 64.408 and sample standard deviation of 2.05, I am\n",
        " 95% confident the population mean lies between 63.686 and 65.1296”. That is\n",
        " how we describe our confidence interval.\n",
        "\n",
        " One interesting thing to note here too is that in our margin of error formula, the\n",
        " larger n becomes the narrower our confidence interval becomes! This makes\n",
        " sense because if we have a larger sample, we are more confident in the\n",
        " population mean falling in a smaller range, hence why it’s called a confidence\n",
        " interval."
      ],
      "metadata": {
        "id": "6R3KJgrZqUX6"
      }
    },
    {
      "cell_type": "markdown",
      "source": [
        "#### P-values and Hypotesis testing\n",
        "\n",
        "A **P-value** is the probability of something occurring by chance rather than because of a hypothesized explanation.  This\n",
        " helps us frame our **null hypothesis (H0)**, saying that the variable in question\n",
        " had no impact on the experiment and any positive results is just random luck.\n",
        " The **alternative hypothesis (H1)** poses that a variable in question (called the\n",
        " controlled variable) is causing a positive result.\n",
        " Traditionally the threshold for statistical significance is a p-value of **5% or less, or .05.**. With hypothesis testing, what we are trying to achieve is to reject a null hypothesis statistically, so we can prove that a variable had an effect on our data.\n"
      ],
      "metadata": {
        "id": "p0DJ90UBs235"
      }
    },
    {
      "cell_type": "markdown",
      "source": [
        "#### One-tailed Test\n",
        "\n",
        "it mesures the statistical significance only in one tail of the curve, and is useful to know in which direcction the difference go. When we approach the one-tailed test, we typically frame our null and\n",
        " alternative hypotheses using inequalities. as example, in a dataset where the mean is 18, it would be like\n",
        "$$H_0 : \\text{population mean} ≥ 18\\\\\n",
        " H_1 : \\text{population mean} < 18$$\n",
        " we must calculate our p-valua for the data, and if its lower than 0.5, the null hypotesis is considered to be rejected"
      ],
      "metadata": {
        "id": "NgahfvfbOpmP"
      }
    },
    {
      "cell_type": "code",
      "source": [
        "# in this example we have a new drug given to 40 people to reduce the number\n",
        "# of days that takes them to recover from flu, which in average, determined for\n",
        "# another study, is 18, with a standard deviation of 1.5 and follows the norm.\n",
        "#This study with the new drug gave 16 days as sample median\n",
        "from scipy.stats import norm\n",
        "mean = 18\n",
        "std_dev = 1.5\n",
        "# What x-value has 5% of area behind it?\n",
        "goal_value = norm.ppf(.05, mean, std_dev)\n",
        "print(goal_value)\n",
        "#since the median of the study is higher than out p-values threshold\n",
        "# we can't reject our null hypotesis\n",
        "\n",
        "our_p_value = norm.cdf(16, mean, std_dev)\n",
        "print(our_p_value)\n",
        "# as proven, our p-value is beyond the standard"
      ],
      "metadata": {
        "id": "UbODp_ETNaXR"
      },
      "execution_count": null,
      "outputs": []
    },
    {
      "cell_type": "markdown",
      "source": [
        "#### Two-tailed Test\n",
        "\n",
        " To do a two-tailed test, we frame our null and alternative hypothesis in an “equal” and “not equal” structure. This looks for determine if our variable did make any difference or not. $$H_0 : \\text{population mean} = 18\\\\ H_1 : \\text{population mean} \\neq 18$$\n",
        "\n",
        "Since our threshhold is of 5% or .05, we must split that percentage between the 2 tails, which lead us to seek significant threshhold values in 2.5% and 97.5%\n"
      ],
      "metadata": {
        "id": "ByD2QlKpUw4u"
      }
    },
    {
      "cell_type": "code",
      "source": [
        "# keeping the example\n",
        "\n",
        "from scipy.stats import norm\n",
        "\n",
        "mean = 18\n",
        "std_dev = 1.5\n",
        "# What x-value has 2.5% of area behind it?\n",
        "x1 = norm.ppf(.025, mean, std_dev)\n",
        "# What x-value has 97.5% of area behind it\n",
        "x2 = norm.ppf(.975, mean, std_dev)\n",
        "\n",
        "print(f\"lower limit: {x1}, upper limit: {x2}\")\n",
        "\n",
        "#so we still fail in reject the null hypotesis\n",
        "#however, to calculate the p-value we must note also\n",
        "#the symmetrical equivalent area on the right tail as well.\n",
        "# if 16 is 2 days under the mean, the other values is going to be\n",
        "# 2 days above the mean, which is 20\n",
        "\n",
        "p1 = norm.cdf(16, mean, std_dev)\n",
        "\n",
        "# Probability of 20 or more days\n",
        " p2 = 1.0 -  norm.cdf(20, mean, std_dev)\n",
        "\n",
        "# P-value of both tails\n",
        " p_value = p1 + p2\n",
        "\n",
        " p_value"
      ],
      "metadata": {
        "id": "2E3oqn7zSg3L"
      },
      "execution_count": null,
      "outputs": []
    },
    {
      "cell_type": "markdown",
      "source": [
        "### T Distribution\n",
        "\n",
        "The T-distribution is like a normal distribution but has fatter tails to reflect more variance and uncertainty. It is used when the data is smaller or equal to 30. An interesting thing is that while the quantity of data increase, the T distribution becomes almost exactly equal to the normal distribution.\n",
        "\n",
        "Can be used for confidence intervals and hypothesis testing\n",
        " when you have a sample size of 30 or less. It's conceptually the same as the\n",
        " critical z-value, but we are usign a T-distribution instead of a normal distribution\n",
        " to reflect greater uncertainty. The smaller the sample size, the larger the range\n",
        " reflecting greater uncertainty,."
      ],
      "metadata": {
        "id": "65EFbDjWr9o5"
      }
    },
    {
      "cell_type": "code",
      "source": [
        "from scipy.stats import t\n",
        "# get critical value range for 95% confidence\n",
        "# with a sample size of 25\n",
        "n = 25\n",
        "lower = t.ppf(.025, df=n-1)\n",
        "upper = t.ppf(.975, df=n-1)\n",
        "print(lower, upper)"
      ],
      "metadata": {
        "id": "03OV55hnWNaL"
      },
      "execution_count": null,
      "outputs": []
    }
  ]
}