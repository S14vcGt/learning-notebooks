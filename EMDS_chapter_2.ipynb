{
  "nbformat": 4,
  "nbformat_minor": 0,
  "metadata": {
    "colab": {
      "provenance": [],
      "authorship_tag": "ABX9TyPUCC+mmAM8uxuYJZbHgpW1",
      "include_colab_link": true
    },
    "kernelspec": {
      "name": "python3",
      "display_name": "Python 3"
    },
    "language_info": {
      "name": "python"
    }
  },
  "cells": [
    {
      "cell_type": "markdown",
      "metadata": {
        "id": "view-in-github",
        "colab_type": "text"
      },
      "source": [
        "<a href=\"https://colab.research.google.com/github/S14vcGt/learning-notebooks/blob/main/EMDS_chapter_2.ipynb\" target=\"_parent\"><img src=\"https://colab.research.google.com/assets/colab-badge.svg\" alt=\"Open In Colab\"/></a>"
      ]
    },
    {
      "cell_type": "markdown",
      "source": [
        "# Probability\n",
        "\n",
        "  **Probability** is how strongly we believe an event will happen, often expressed as a percentage.  \n",
        "  **Likelihood** is similar to probability, and it is easy to confuse the two (many\n",
        " dictionaries do as well). You can get away with using “probability” and “likelihood”\n",
        " interchangeably in everyday conversation. However, we should pin down these\n",
        " differences. Probability is about quantifying predictions of events yet to happen,\n",
        " whereas likelihood is measuring the frequency of events that already occurred. In\n",
        " statistics and machine learning, we often use likelihood (the past) in the form of data\n",
        " to predict probability (the future). In spanish its called \"verosimilitud\" or \"probabilidad relativa\".\n",
        "\n",
        "Probabilities of all\n",
        " possible mutually exclusive outcomes for an event (meaning only one outcome can\n",
        " occur, not multiple) must sum to 1.0 or 100%. Likelihoods however are not subject\n",
        " to this rule."
      ],
      "metadata": {
        "id": "UMDdJ7p0T7nn"
      }
    },
    {
      "cell_type": "markdown",
      "source": [
        "## Odds"
      ],
      "metadata": {
        "id": "IzRTGBgY2-w1"
      }
    },
    {
      "cell_type": "markdown",
      "source": [
        "Probabilities must always be between 0.0 and 1.0, or in percentage, between 0% and 100%.  Alternatively, probability can be expressed as an odds $O(X)$ such as 7:3 or $ \\frac{7}{3}$, or 2.333.\n",
        "\n",
        "So if have an odds $7/3$, I can convert it into a proportional probability like this:$$P(X)= \\frac{O(X)}{1+O(X)}$$\n",
        "\n",
        "Conversely, you can turn an odds into a probability simply by dividing the probability of the event occurring by the probability it will not occur: $$ O(X) = \\frac{P(X)}{1-P(X)}$$\n",
        "\n",
        "If I have an odds of 2.0, that means I feel an event is 2 times more likely to happen than not to happen."
      ],
      "metadata": {
        "id": "nHhFlnguyKZR"
      }
    },
    {
      "cell_type": "markdown",
      "source": [
        "## Probability math"
      ],
      "metadata": {
        "id": "cn82IaGh2Wy5"
      }
    },
    {
      "cell_type": "markdown",
      "source": [
        "### Joint Probability\n",
        "\n",
        "It is when we want to calculate the probabilitie of two separated events, with their own separated probailities (independents) happening together and is like an AND operator. $$ P(\\text{A AND B})=P(A)\\times P(B)$$"
      ],
      "metadata": {
        "id": "9jfkB-wD3FSW"
      }
    },
    {
      "cell_type": "code",
      "source": [
        "# Joint probability of flipping a coin and get heads\n",
        "# and rolling a dice and get 6\n",
        "\n",
        "heads = 1/2\n",
        "\n",
        "six= 1/6\n",
        "\n",
        "heads*six"
      ],
      "metadata": {
        "id": "DWg7TQxK6TqK"
      },
      "execution_count": null,
      "outputs": []
    },
    {
      "cell_type": "markdown",
      "source": [
        "### Union probability\n",
        "\n",
        "It's an OR operation with probabilities. When you have a union probability between two or more events that are not mutually exclusive, we need\n",
        "to subtract the joint probability so no probabilities are double-counted. $$ P(\\text{A OR B})=P(A)+P(B)-P(\\text{A AND B})$$"
      ],
      "metadata": {
        "id": "g1RyisnD7TFb"
      }
    },
    {
      "cell_type": "code",
      "source": [
        "#Probabilitie of rolling a dice and get 4 or 6 (mutually exclusive)\n",
        "print(1/6 + 1/6)\n",
        "# probabilitie of getting a heads or a 6 (mutually inclusive)\n",
        "(1/6 + 1/2) - 1/6 * 1/2"
      ],
      "metadata": {
        "id": "t8gJibkg_laF"
      },
      "execution_count": null,
      "outputs": []
    },
    {
      "cell_type": "markdown",
      "source": [
        "### Conditional Probability and Bayes Theorem\n",
        "\n",
        "Conditional probability is the probability of an event A occurring given event B has occurred. It is typically expressed as\n",
        "$P(\\text{A GIVEN B})$ or $P(A|B)$, and we can calculate using Bayes theorem: $$ P(A|B) = \\frac{P(B|A)*P(A)}{ P(B)}$$.\n",
        "\n",
        "When we have joint and union conditional probabilities, the correct formulas to use are: $$ P(\\text{A AND B})=P(B)×P(A|B)$$\n",
        "\n",
        "$$ P(\\text{A OR B})=P(A)+P(B)−P(A|B)×P(B)$$\n",
        "\n"
      ],
      "metadata": {
        "id": "JbTcm9HqBV1B"
      }
    },
    {
      "cell_type": "markdown",
      "source": [
        "## Binomial Distribution\n",
        "\n",
        " measures\n",
        " how likely $k$ successes can happen out of $n$ trials given $p$ probability.\n",
        "\n",
        " $$P(k \\quad of \\quad n)=\\binom{n}{k}p^k(1-p)^{n-k}$$\n",
        "\n",
        " We can implement it from scratch or using Scipy\n"
      ],
      "metadata": {
        "id": "GVF2xiViUrVh"
      }
    },
    {
      "cell_type": "code",
      "source": [
        "from scipy.stats import binom\n",
        "n = 10\n",
        "p = 0.9\n",
        "\n",
        "for k in range(n + 1):\n",
        "  probability = binom.pmf(k, n, p)\n",
        "  print(f\"{k} - {probability}\")"
      ],
      "metadata": {
        "id": "rq9cgjZoSapC"
      },
      "execution_count": null,
      "outputs": []
    },
    {
      "cell_type": "code",
      "source": [
        "# Factorials multiply consecutive descending integers down to 1\n",
        "def factorial(n: int):\n",
        "  f = 1\n",
        "  for i in range(n):\n",
        "    f *= (i + 1)\n",
        "  return f\n",
        "\n",
        "# Generates the coefficient needed for the binomial distribution\n",
        "def binomial_coefficient(n: int, k: int):\n",
        "  return factorial(n) / (factorial(k) * factorial(n - k))\n",
        "\n",
        "# Binomial distribution calculates the probability of k events out of n trials\n",
        "# given the p probability of k occurring\n",
        "def binomial_distribution(k: int, n: int, p: float):\n",
        "  return binomial_coefficient(n, k) * (p ** k) * (1.0 - p) ** (n - k)\n",
        "\n",
        "# 10 trials where each has 90% success probability\n",
        "n = 10\n",
        "p = 0.9\n",
        "for k in range(n + 1):\n",
        "  probability = binomial_distribution(k, n, p)\n",
        "  print(f\"{k} - {probability}\")"
      ],
      "metadata": {
        "id": "UY4_PpToU2Kn"
      },
      "execution_count": null,
      "outputs": []
    },
    {
      "cell_type": "markdown",
      "source": [
        "## Beta distribution\n",
        "\n",
        "allows us to see the likelihood of\n",
        " different underlying probabilities for an event to occur given α successes and β failures. Again, we can calculate this with Scipy or from scratch easily enough."
      ],
      "metadata": {
        "id": "iL3vmDtePdI3"
      }
    },
    {
      "cell_type": "code",
      "source": [
        "from scipy.stats import beta\n",
        "a = 8\n",
        "b = 2\n",
        "beta.cdf(.90, a, b)"
      ],
      "metadata": {
        "id": "AhyTvuXWQS2e"
      },
      "execution_count": null,
      "outputs": []
    },
    {
      "cell_type": "markdown",
      "source": [
        "With this value we can actually determine the beta distribution for the probability of being less or equal to 90%, just substracting the value calculated to 1, since we are working with probabilities."
      ],
      "metadata": {
        "id": "1GxNAYcDRCTx"
      }
    },
    {
      "cell_type": "code",
      "source": [
        "from scipy.stats import beta\n",
        "a = 8\n",
        "b = 2\n",
        "1- beta.cdf(.90, a, b)"
      ],
      "metadata": {
        "id": "WzGVlizMR3p-"
      },
      "execution_count": null,
      "outputs": []
    },
    {
      "cell_type": "markdown",
      "source": [
        "What if I want to\n",
        " find the probability my underlying rate of success is between 80% and 90% ?"
      ],
      "metadata": {
        "id": "SGBFhypdR4AQ"
      }
    },
    {
      "cell_type": "code",
      "source": [
        "from scipy.stats import beta\n",
        "a = 8\n",
        "b = 2\n",
        "beta.cdf(.90, a, b) - beta.cdf(.80, a, b)"
      ],
      "metadata": {
        "id": "ZkV_6L5ZR7Cp"
      },
      "execution_count": null,
      "outputs": []
    }
  ]
}