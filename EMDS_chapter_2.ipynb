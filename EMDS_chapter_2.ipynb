{
  "nbformat": 4,
  "nbformat_minor": 0,
  "metadata": {
    "colab": {
      "provenance": [],
      "authorship_tag": "ABX9TyOjcqLCZWxzcWXOiiCsjaPY",
      "include_colab_link": true
    },
    "kernelspec": {
      "name": "python3",
      "display_name": "Python 3"
    },
    "language_info": {
      "name": "python"
    }
  },
  "cells": [
    {
      "cell_type": "markdown",
      "metadata": {
        "id": "view-in-github",
        "colab_type": "text"
      },
      "source": [
        "<a href=\"https://colab.research.google.com/github/S14vcGt/learning-notebooks/blob/main/EMDS_chapter_2.ipynb\" target=\"_parent\"><img src=\"https://colab.research.google.com/assets/colab-badge.svg\" alt=\"Open In Colab\"/></a>"
      ]
    },
    {
      "cell_type": "markdown",
      "source": [
        "# Probability\n",
        "\n",
        " In this chapter, we will discuss what probability is. Then we will cover probability\n",
        " math concepts, Bayes Theorem, the Binomial Distribution, and the Beta\n",
        " Distribution"
      ],
      "metadata": {
        "id": "UMDdJ7p0T7nn"
      }
    },
    {
      "cell_type": "markdown",
      "source": [
        "## Binomial Distribution\n",
        "\n",
        " measures\n",
        " how likely $k$ successes can happen out of $n$ trials given $p$ probability.\n",
        "\n",
        " $$P(k \\quad of \\quad n)=\\binom{n}{k}p^k(1-p)^{n-k}$$\n",
        "\n",
        " We can implement it from scratch or using Scipy\n"
      ],
      "metadata": {
        "id": "GVF2xiViUrVh"
      }
    },
    {
      "cell_type": "code",
      "source": [
        "from scipy.stats import binom\n",
        "n = 10\n",
        "p = 0.9\n",
        "\n",
        "for k in range(n + 1):\n",
        "  probability = binom.pmf(k, n, p)\n",
        "  print(f\"{k} - {probability}\")"
      ],
      "metadata": {
        "colab": {
          "base_uri": "https://localhost:8080/"
        },
        "id": "rq9cgjZoSapC",
        "outputId": "f05b933e-d6e1-4667-d271-a46efbc3dcd2"
      },
      "execution_count": 2,
      "outputs": [
        {
          "output_type": "stream",
          "name": "stdout",
          "text": [
            "0 - 9.999999999999977e-11\n",
            "1 - 8.999999999999978e-09\n",
            "2 - 3.6449999999999943e-07\n",
            "3 - 8.747999999999991e-06\n",
            "4 - 0.00013778099999999974\n",
            "5 - 0.0014880347999999982\n",
            "6 - 0.011160260999999996\n",
            "7 - 0.05739562799999997\n",
            "8 - 0.1937102444999998\n",
            "9 - 0.38742048899999976\n",
            "10 - 0.3486784401000001\n"
          ]
        }
      ]
    },
    {
      "cell_type": "code",
      "source": [
        "# Factorials multiply consecutive descending integers down to 1\n",
        "def factorial(n: int):\n",
        "  f = 1\n",
        "  for i in range(n):\n",
        "    f *= (i + 1)\n",
        "  return f\n",
        "\n",
        "# Generates the coefficient needed for the binomial distribution\n",
        "def binomial_coefficient(n: int, k: int):\n",
        "  return factorial(n) / (factorial(k) * factorial(n - k))\n",
        "\n",
        "# Binomial distribution calculates the probability of k events out of n trials\n",
        "# given the p probability of k occurring\n",
        "def binomial_distribution(k: int, n: int, p: float):\n",
        "  return binomial_coefficient(n, k) * (p ** k) * (1.0 - p) ** (n - k)\n",
        "\n",
        "# 10 trials where each has 90% success probability\n",
        "n = 10\n",
        "p = 0.9\n",
        "for k in range(n + 1):\n",
        "  probability = binomial_distribution(k, n, p)\n",
        "  print(f\"{k} - {probability}\")"
      ],
      "metadata": {
        "colab": {
          "base_uri": "https://localhost:8080/"
        },
        "id": "UY4_PpToU2Kn",
        "outputId": "bb186659-a165-4325-9c02-35b58f1716de"
      },
      "execution_count": 2,
      "outputs": [
        {
          "output_type": "stream",
          "name": "stdout",
          "text": [
            "0 - 9.999999999999978e-11\n",
            "1 - 8.999999999999981e-09\n",
            "2 - 3.644999999999994e-07\n",
            "3 - 8.747999999999988e-06\n",
            "4 - 0.00013778099999999982\n",
            "5 - 0.0014880347999999984\n",
            "6 - 0.01116026099999999\n",
            "7 - 0.057395627999999976\n",
            "8 - 0.19371024449999993\n",
            "9 - 0.38742048900000003\n",
            "10 - 0.3486784401000001\n"
          ]
        }
      ]
    },
    {
      "cell_type": "markdown",
      "source": [
        "## Beta distribution\n",
        "\n",
        "allows us to see the likelihood of\n",
        " different underlying probabilities for an event to occur given α successes and β failures. Again, we can calculate this with Scipy or from scratch easily enough."
      ],
      "metadata": {
        "id": "iL3vmDtePdI3"
      }
    },
    {
      "cell_type": "code",
      "source": [
        "from scipy.stats import beta\n",
        "a = 8\n",
        "b = 2\n",
        "beta.cdf(.90, a, b)"
      ],
      "metadata": {
        "colab": {
          "base_uri": "https://localhost:8080/"
        },
        "id": "AhyTvuXWQS2e",
        "outputId": "3c2d830c-47fd-42d9-d263-32d7448772a6"
      },
      "execution_count": 3,
      "outputs": [
        {
          "output_type": "execute_result",
          "data": {
            "text/plain": [
              "0.7748409780000002"
            ]
          },
          "metadata": {},
          "execution_count": 3
        }
      ]
    },
    {
      "cell_type": "markdown",
      "source": [
        "With this value we can actually determine the beta distribution for the probability of being less or equal to 90%, just substracting the value calculated to 1, since we are working with probabilities."
      ],
      "metadata": {
        "id": "1GxNAYcDRCTx"
      }
    },
    {
      "cell_type": "code",
      "source": [
        "from scipy.stats import beta\n",
        "a = 8\n",
        "b = 2\n",
        "1- beta.cdf(.90, a, b)"
      ],
      "metadata": {
        "colab": {
          "base_uri": "https://localhost:8080/"
        },
        "id": "WzGVlizMR3p-",
        "outputId": "2244950b-a184-4e20-d709-dd1abccb75b2"
      },
      "execution_count": 5,
      "outputs": [
        {
          "output_type": "execute_result",
          "data": {
            "text/plain": [
              "0.22515902199999982"
            ]
          },
          "metadata": {},
          "execution_count": 5
        }
      ]
    },
    {
      "cell_type": "markdown",
      "source": [
        "What if I want to\n",
        " find the probability my underlying rate of success is between 80% and 90% ?"
      ],
      "metadata": {
        "id": "SGBFhypdR4AQ"
      }
    },
    {
      "cell_type": "code",
      "source": [
        "from scipy.stats import beta\n",
        "a = 8\n",
        "b = 2\n",
        "beta.cdf(.90, a, b) - beta.cdf(.80, a, b)"
      ],
      "metadata": {
        "colab": {
          "base_uri": "https://localhost:8080/"
        },
        "id": "ZkV_6L5ZR7Cp",
        "outputId": "dc30af9b-b67f-4b6d-9ec5-5f2112486b92"
      },
      "execution_count": 6,
      "outputs": [
        {
          "output_type": "execute_result",
          "data": {
            "text/plain": [
              "0.33863336199999994"
            ]
          },
          "metadata": {},
          "execution_count": 6
        }
      ]
    }
  ]
}